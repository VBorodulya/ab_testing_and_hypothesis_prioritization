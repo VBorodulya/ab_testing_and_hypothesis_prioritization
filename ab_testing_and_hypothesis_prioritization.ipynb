{
 "cells": [
  {
   "cell_type": "markdown",
   "id": "aebc2c85",
   "metadata": {},
   "source": [
    "# Описание проекта\n",
    "\n",
    "## Задача\n",
    "\n",
    "Приоритизация по фреймворкам ICE и RICE гипотез для увеличения выручки интернет-магазина и анализ A/B-теста.\n",
    "\n",
    "## Ход исследования\n",
    "\n",
    "1. Приоритизация гипотез\n",
    "2. Анализ A/B-теста\n",
    "3. Вывод"
   ]
  },
  {
   "cell_type": "code",
   "execution_count": 1,
   "id": "7d606227",
   "metadata": {
    "ExecuteTime": {
     "end_time": "2023-08-22T19:37:59.923339Z",
     "start_time": "2023-08-22T19:37:56.482031Z"
    }
   },
   "outputs": [],
   "source": [
    "import pandas as pd\n",
    "import numpy as np\n",
    "import scipy.stats as stats\n",
    "import datetime as dt\n",
    "import matplotlib.pyplot as plt\n",
    "from pandas.plotting import register_matplotlib_converters\n",
    "import warnings"
   ]
  },
  {
   "cell_type": "markdown",
   "id": "ab99f4fb",
   "metadata": {},
   "source": [
    "# 1. Приоритизация гипотез"
   ]
  },
  {
   "cell_type": "code",
   "execution_count": 2,
   "id": "b0d837b0",
   "metadata": {
    "ExecuteTime": {
     "end_time": "2023-08-22T19:38:00.017174Z",
     "start_time": "2023-08-22T19:37:59.886903Z"
    }
   },
   "outputs": [],
   "source": [
    "# Загружаем данные\n",
    "hypothesis = pd.read_csv('hypothesis.csv')\n",
    "    \n",
    "# Приведём к нижнему регистру\n",
    "hypothesis.columns = hypothesis.columns.str.lower()"
   ]
  },
  {
   "cell_type": "code",
   "execution_count": 3,
   "id": "7cc26cac",
   "metadata": {
    "ExecuteTime": {
     "end_time": "2023-08-22T19:38:00.020522Z",
     "start_time": "2023-08-22T19:37:59.936915Z"
    }
   },
   "outputs": [
    {
     "data": {
      "text/html": [
       "<div>\n",
       "<style scoped>\n",
       "    .dataframe tbody tr th:only-of-type {\n",
       "        vertical-align: middle;\n",
       "    }\n",
       "\n",
       "    .dataframe tbody tr th {\n",
       "        vertical-align: top;\n",
       "    }\n",
       "\n",
       "    .dataframe thead th {\n",
       "        text-align: right;\n",
       "    }\n",
       "</style>\n",
       "<table border=\"1\" class=\"dataframe\">\n",
       "  <thead>\n",
       "    <tr style=\"text-align: right;\">\n",
       "      <th></th>\n",
       "      <th>hypothesis</th>\n",
       "      <th>reach</th>\n",
       "      <th>impact</th>\n",
       "      <th>confidence</th>\n",
       "      <th>efforts</th>\n",
       "    </tr>\n",
       "  </thead>\n",
       "  <tbody>\n",
       "    <tr>\n",
       "      <th>0</th>\n",
       "      <td>Добавить два новых канала привлечения трафика, что позволит привлекать на 30% больше пользователей</td>\n",
       "      <td>3</td>\n",
       "      <td>10</td>\n",
       "      <td>8</td>\n",
       "      <td>6</td>\n",
       "    </tr>\n",
       "    <tr>\n",
       "      <th>1</th>\n",
       "      <td>Запустить собственную службу доставки, что сократит срок доставки заказов</td>\n",
       "      <td>2</td>\n",
       "      <td>5</td>\n",
       "      <td>4</td>\n",
       "      <td>10</td>\n",
       "    </tr>\n",
       "    <tr>\n",
       "      <th>2</th>\n",
       "      <td>Добавить блоки рекомендаций товаров на сайт интернет магазина, чтобы повысить конверсию и средний чек заказа</td>\n",
       "      <td>8</td>\n",
       "      <td>3</td>\n",
       "      <td>7</td>\n",
       "      <td>3</td>\n",
       "    </tr>\n",
       "    <tr>\n",
       "      <th>3</th>\n",
       "      <td>Изменить структура категорий, что увеличит конверсию, т.к. пользователи быстрее найдут нужный товар</td>\n",
       "      <td>8</td>\n",
       "      <td>3</td>\n",
       "      <td>3</td>\n",
       "      <td>8</td>\n",
       "    </tr>\n",
       "    <tr>\n",
       "      <th>4</th>\n",
       "      <td>Изменить цвет фона главной страницы, чтобы увеличить вовлеченность пользователей</td>\n",
       "      <td>3</td>\n",
       "      <td>1</td>\n",
       "      <td>1</td>\n",
       "      <td>1</td>\n",
       "    </tr>\n",
       "    <tr>\n",
       "      <th>5</th>\n",
       "      <td>Добавить страницу отзывов клиентов о магазине, что позволит увеличить количество заказов</td>\n",
       "      <td>3</td>\n",
       "      <td>2</td>\n",
       "      <td>2</td>\n",
       "      <td>3</td>\n",
       "    </tr>\n",
       "    <tr>\n",
       "      <th>6</th>\n",
       "      <td>Показать на главной странице баннеры с актуальными акциями и распродажами, чтобы увеличить конверсию</td>\n",
       "      <td>5</td>\n",
       "      <td>3</td>\n",
       "      <td>8</td>\n",
       "      <td>3</td>\n",
       "    </tr>\n",
       "    <tr>\n",
       "      <th>7</th>\n",
       "      <td>Добавить форму подписки на все основные страницы, чтобы собрать базу клиентов для email-рассылок</td>\n",
       "      <td>10</td>\n",
       "      <td>7</td>\n",
       "      <td>8</td>\n",
       "      <td>5</td>\n",
       "    </tr>\n",
       "    <tr>\n",
       "      <th>8</th>\n",
       "      <td>Запустить акцию, дающую скидку на товар в день рождения</td>\n",
       "      <td>1</td>\n",
       "      <td>9</td>\n",
       "      <td>9</td>\n",
       "      <td>5</td>\n",
       "    </tr>\n",
       "  </tbody>\n",
       "</table>\n",
       "</div>"
      ],
      "text/plain": [
       "                                                                                                     hypothesis  \\\n",
       "0            Добавить два новых канала привлечения трафика, что позволит привлекать на 30% больше пользователей   \n",
       "1                                     Запустить собственную службу доставки, что сократит срок доставки заказов   \n",
       "2  Добавить блоки рекомендаций товаров на сайт интернет магазина, чтобы повысить конверсию и средний чек заказа   \n",
       "3           Изменить структура категорий, что увеличит конверсию, т.к. пользователи быстрее найдут нужный товар   \n",
       "4                              Изменить цвет фона главной страницы, чтобы увеличить вовлеченность пользователей   \n",
       "5                      Добавить страницу отзывов клиентов о магазине, что позволит увеличить количество заказов   \n",
       "6          Показать на главной странице баннеры с актуальными акциями и распродажами, чтобы увеличить конверсию   \n",
       "7              Добавить форму подписки на все основные страницы, чтобы собрать базу клиентов для email-рассылок   \n",
       "8                                                       Запустить акцию, дающую скидку на товар в день рождения   \n",
       "\n",
       "   reach  impact  confidence  efforts  \n",
       "0      3      10           8        6  \n",
       "1      2       5           4       10  \n",
       "2      8       3           7        3  \n",
       "3      8       3           3        8  \n",
       "4      3       1           1        1  \n",
       "5      3       2           2        3  \n",
       "6      5       3           8        3  \n",
       "7     10       7           8        5  \n",
       "8      1       9           9        5  "
      ]
     },
     "execution_count": 3,
     "metadata": {},
     "output_type": "execute_result"
    }
   ],
   "source": [
    "# Взглянем на таблицу, увеличив размеры столбцов\n",
    "pd.options.display.max_colwidth = 150\n",
    "hypothesis"
   ]
  },
  {
   "cell_type": "code",
   "execution_count": 4,
   "id": "8c9b829a",
   "metadata": {
    "ExecuteTime": {
     "end_time": "2023-08-22T19:38:00.060575Z",
     "start_time": "2023-08-22T19:37:59.951256Z"
    }
   },
   "outputs": [
    {
     "name": "stdout",
     "output_type": "stream",
     "text": [
      "                                                                                                     hypothesis  \\\n",
      "8                                                       Запустить акцию, дающую скидку на товар в день рождения   \n",
      "0            Добавить два новых канала привлечения трафика, что позволит привлекать на 30% больше пользователей   \n",
      "7              Добавить форму подписки на все основные страницы, чтобы собрать базу клиентов для email-рассылок   \n",
      "6          Показать на главной странице баннеры с актуальными акциями и распродажами, чтобы увеличить конверсию   \n",
      "2  Добавить блоки рекомендаций товаров на сайт интернет магазина, чтобы повысить конверсию и средний чек заказа   \n",
      "1                                     Запустить собственную службу доставки, что сократит срок доставки заказов   \n",
      "5                      Добавить страницу отзывов клиентов о магазине, что позволит увеличить количество заказов   \n",
      "3           Изменить структура категорий, что увеличит конверсию, т.к. пользователи быстрее найдут нужный товар   \n",
      "4                              Изменить цвет фона главной страницы, чтобы увеличить вовлеченность пользователей   \n",
      "\n",
      "     ice  \n",
      "8  16.20  \n",
      "0  13.33  \n",
      "7  11.20  \n",
      "6   8.00  \n",
      "2   7.00  \n",
      "1   2.00  \n",
      "5   1.33  \n",
      "3   1.12  \n",
      "4   1.00  \n"
     ]
    }
   ],
   "source": [
    "# Применим фреймворк ICE для приоритизации гипотез, отсортируем их по убыванию приоритета и округлим до второго знака после точки\n",
    "hypothesis['ice'] = (hypothesis['impact'] * hypothesis['confidence'] / hypothesis['efforts'])\n",
    "hypothesis['ice'] = hypothesis['ice'].round(2)\n",
    "\n",
    "print(hypothesis[['hypothesis', 'ice']].sort_values(by='ice', ascending=False))"
   ]
  },
  {
   "cell_type": "code",
   "execution_count": 5,
   "id": "fc23456a",
   "metadata": {
    "ExecuteTime": {
     "end_time": "2023-08-22T19:38:00.072160Z",
     "start_time": "2023-08-22T19:37:59.961258Z"
    }
   },
   "outputs": [
    {
     "name": "stdout",
     "output_type": "stream",
     "text": [
      "                                                                                                     hypothesis  \\\n",
      "7              Добавить форму подписки на все основные страницы, чтобы собрать базу клиентов для email-рассылок   \n",
      "2  Добавить блоки рекомендаций товаров на сайт интернет магазина, чтобы повысить конверсию и средний чек заказа   \n",
      "0            Добавить два новых канала привлечения трафика, что позволит привлекать на 30% больше пользователей   \n",
      "6          Показать на главной странице баннеры с актуальными акциями и распродажами, чтобы увеличить конверсию   \n",
      "8                                                       Запустить акцию, дающую скидку на товар в день рождения   \n",
      "3           Изменить структура категорий, что увеличит конверсию, т.к. пользователи быстрее найдут нужный товар   \n",
      "1                                     Запустить собственную службу доставки, что сократит срок доставки заказов   \n",
      "5                      Добавить страницу отзывов клиентов о магазине, что позволит увеличить количество заказов   \n",
      "4                              Изменить цвет фона главной страницы, чтобы увеличить вовлеченность пользователей   \n",
      "\n",
      "    rice  \n",
      "7  112.0  \n",
      "2   56.0  \n",
      "0   40.0  \n",
      "6   40.0  \n",
      "8   16.2  \n",
      "3    9.0  \n",
      "1    4.0  \n",
      "5    4.0  \n",
      "4    3.0  \n"
     ]
    }
   ],
   "source": [
    "# И фреймворк RICE\n",
    "hypothesis['rice'] = (\n",
    "    hypothesis['reach'] * hypothesis['impact'] * hypothesis['confidence'] / hypothesis['efforts']\n",
    ")\n",
    "\n",
    "print(hypothesis[['hypothesis', 'rice']].sort_values(by='rice', ascending=False))"
   ]
  },
  {
   "cell_type": "markdown",
   "id": "d5ac92d9",
   "metadata": {},
   "source": [
    "## Как изменилась приоритизация гипотез при применении RICE вместо ICE\n",
    "Наиболее перспективные гипотезы по ICE под индексами 8, 0, 7, 6. По фреймворку RICE — под индексами 7, 2, 0, 6. Изменение первого места обусловлено высоким показателем Reach у седьмой гипотезы — 10. У восьмой гипотезы охват равен единице."
   ]
  },
  {
   "cell_type": "code",
   "execution_count": 6,
   "id": "07cd2b1c",
   "metadata": {
    "ExecuteTime": {
     "end_time": "2023-08-22T19:38:00.072546Z",
     "start_time": "2023-08-22T19:37:59.966572Z"
    }
   },
   "outputs": [
    {
     "name": "stdout",
     "output_type": "stream",
     "text": [
      "Наиболее перспективные гипотезы по ICE\n",
      "\n",
      "8                                                 Запустить акцию, дающую скидку на товар в день рождения\n",
      "0      Добавить два новых канала привлечения трафика, что позволит привлекать на 30% больше пользователей\n",
      "7        Добавить форму подписки на все основные страницы, чтобы собрать базу клиентов для email-рассылок\n",
      "6    Показать на главной странице баннеры с актуальными акциями и распродажами, чтобы увеличить конверсию\n",
      "Name: hypothesis, dtype: object\n",
      "\n",
      "Наиболее перспективные гипотезы по RICE\n",
      "\n",
      "7                Добавить форму подписки на все основные страницы, чтобы собрать базу клиентов для email-рассылок\n",
      "2    Добавить блоки рекомендаций товаров на сайт интернет магазина, чтобы повысить конверсию и средний чек заказа\n",
      "0              Добавить два новых канала привлечения трафика, что позволит привлекать на 30% больше пользователей\n",
      "6            Показать на главной странице баннеры с актуальными акциями и распродажами, чтобы увеличить конверсию\n",
      "Name: hypothesis, dtype: object\n"
     ]
    }
   ],
   "source": [
    "print('Наиболее перспективные гипотезы по ICE')\n",
    "print()\n",
    "print(hypothesis['hypothesis'][[8, 0, 7, 6]])\n",
    "print()\n",
    "print('Наиболее перспективные гипотезы по RICE')\n",
    "print()\n",
    "print(hypothesis['hypothesis'][[7, 2, 0, 6]])"
   ]
  },
  {
   "cell_type": "markdown",
   "id": "e5ea102f",
   "metadata": {},
   "source": [
    "# 2. Анализ A/B-теста"
   ]
  },
  {
   "cell_type": "code",
   "execution_count": 7,
   "id": "1cc4c2b6",
   "metadata": {
    "ExecuteTime": {
     "end_time": "2023-08-22T19:38:00.073350Z",
     "start_time": "2023-08-22T19:37:59.975698Z"
    }
   },
   "outputs": [
    {
     "name": "stdout",
     "output_type": "stream",
     "text": [
      "   transactionId   visitorId        date  revenue group\n",
      "0     3667963787  3312258926  2019-08-15     1650     B\n",
      "1     2804400009  3642806036  2019-08-15      730     B\n",
      "2     2961555356  4069496402  2019-08-15      400     A\n",
      "3     3797467345  1196621759  2019-08-15     9759     B\n",
      "4     2282983706  2322279887  2019-08-15     2308     B\n",
      "\n",
      "         date group  visitors\n",
      "0  2019-08-01     A       719\n",
      "1  2019-08-02     A       619\n",
      "2  2019-08-03     A       507\n",
      "3  2019-08-04     A       717\n",
      "4  2019-08-05     A       756\n"
     ]
    }
   ],
   "source": [
    "# Загружаем файлы\n",
    "# orders\n",
    "orders = pd.read_csv('orders.csv')\n",
    "visitors = pd.read_csv('visitors.csv')\n",
    "    \n",
    "print(orders.head())\n",
    "print()\n",
    "print(visitors.head())"
   ]
  },
  {
   "cell_type": "code",
   "execution_count": 8,
   "id": "1ce5f053",
   "metadata": {
    "ExecuteTime": {
     "end_time": "2023-08-22T19:38:00.073522Z",
     "start_time": "2023-08-22T19:37:59.985279Z"
    }
   },
   "outputs": [
    {
     "name": "stdout",
     "output_type": "stream",
     "text": [
      "Index(['transaction_id', 'visitor_id', 'date', 'revenue', 'group'], dtype='object')\n"
     ]
    }
   ],
   "source": [
    "# Зададим змеиный регистр и заменим пробелы в названиях столбцов\n",
    "orders = orders.rename(columns={'transactionId': 'transaction_id', 'visitorId': 'visitor_id'})\n",
    "print(orders.columns)"
   ]
  },
  {
   "cell_type": "code",
   "execution_count": 9,
   "id": "0e02d7aa",
   "metadata": {
    "ExecuteTime": {
     "end_time": "2023-08-22T19:38:00.073658Z",
     "start_time": "2023-08-22T19:37:59.990277Z"
    }
   },
   "outputs": [
    {
     "name": "stdout",
     "output_type": "stream",
     "text": [
      "<class 'pandas.core.frame.DataFrame'>\n",
      "RangeIndex: 1197 entries, 0 to 1196\n",
      "Data columns (total 5 columns):\n",
      " #   Column          Non-Null Count  Dtype \n",
      "---  ------          --------------  ----- \n",
      " 0   transaction_id  1197 non-null   int64 \n",
      " 1   visitor_id      1197 non-null   int64 \n",
      " 2   date            1197 non-null   object\n",
      " 3   revenue         1197 non-null   int64 \n",
      " 4   group           1197 non-null   object\n",
      "dtypes: int64(3), object(2)\n",
      "memory usage: 46.9+ KB\n",
      "None\n",
      "\n",
      "<class 'pandas.core.frame.DataFrame'>\n",
      "RangeIndex: 62 entries, 0 to 61\n",
      "Data columns (total 3 columns):\n",
      " #   Column    Non-Null Count  Dtype \n",
      "---  ------    --------------  ----- \n",
      " 0   date      62 non-null     object\n",
      " 1   group     62 non-null     object\n",
      " 2   visitors  62 non-null     int64 \n",
      "dtypes: int64(1), object(2)\n",
      "memory usage: 1.6+ KB\n",
      "None\n"
     ]
    }
   ],
   "source": [
    "print(orders.info())\n",
    "print()\n",
    "print(visitors.info())"
   ]
  },
  {
   "cell_type": "code",
   "execution_count": 10,
   "id": "0a07c739",
   "metadata": {
    "ExecuteTime": {
     "end_time": "2023-08-22T19:38:00.074098Z",
     "start_time": "2023-08-22T19:38:00.017605Z"
    }
   },
   "outputs": [],
   "source": [
    "# Приведём к datetime\n",
    "orders['date'] = orders['date'].map(lambda x: dt.datetime.strptime(x, '%Y-%m-%d'))\n",
    "visitors['date'] = visitors['date'].map(lambda x: dt.datetime.strptime(x, '%Y-%m-%d'))"
   ]
  },
  {
   "cell_type": "code",
   "execution_count": 11,
   "id": "75f98c99",
   "metadata": {
    "ExecuteTime": {
     "end_time": "2023-08-22T19:38:00.074348Z",
     "start_time": "2023-08-22T19:38:00.018201Z"
    }
   },
   "outputs": [
    {
     "name": "stdout",
     "output_type": "stream",
     "text": [
      "Датафрейм orders\n",
      "transaction_id    0\n",
      "visitor_id        0\n",
      "date              0\n",
      "revenue           0\n",
      "group             0\n",
      "dtype: int64\n",
      "\n",
      "Датафрейм visitors\n",
      "date        0\n",
      "group       0\n",
      "visitors    0\n",
      "dtype: int64\n",
      "\n"
     ]
    }
   ],
   "source": [
    "# Проверим пропуски\n",
    "for name, df in ('orders', orders), ('visitors', visitors):\n",
    "    print(f'Датафрейм {name}')\n",
    "    print(df.isna().sum())\n",
    "    print()"
   ]
  },
  {
   "cell_type": "code",
   "execution_count": 12,
   "id": "94db482e",
   "metadata": {
    "ExecuteTime": {
     "end_time": "2023-08-22T19:38:00.075216Z",
     "start_time": "2023-08-22T19:38:00.023857Z"
    }
   },
   "outputs": [
    {
     "name": "stdout",
     "output_type": "stream",
     "text": [
      "Количество явных дубликатов в orders: 0\n",
      "\n",
      "Количество явных дубликатов в visitors: 0\n",
      "\n"
     ]
    }
   ],
   "source": [
    "# Наличие явных дубликатов\n",
    "for name, df in ('orders', orders), ('visitors', visitors):\n",
    "    print(f'Количество явных дубликатов в {name}: {df.duplicated().sum()}')\n",
    "    print()"
   ]
  },
  {
   "cell_type": "code",
   "execution_count": 13,
   "id": "afabdce3",
   "metadata": {
    "ExecuteTime": {
     "end_time": "2023-08-22T19:38:00.075395Z",
     "start_time": "2023-08-22T19:38:00.031107Z"
    }
   },
   "outputs": [
    {
     "name": "stdout",
     "output_type": "stream",
     "text": [
      "visitors['group']\n",
      "['A' 'B']\n",
      "\n",
      "orders['group']\n",
      "['B' 'A']\n"
     ]
    }
   ],
   "source": [
    "# Проверим наличие неявных дубликатов в интересующих нас местах\n",
    "print(f\"visitors['group']\\n{visitors['group'].unique()}\")\n",
    "print()\n",
    "print(f\"orders['group']\\n{orders['group'].unique()}\")"
   ]
  },
  {
   "cell_type": "code",
   "execution_count": 14,
   "id": "efebbb77",
   "metadata": {
    "ExecuteTime": {
     "end_time": "2023-08-22T19:38:00.075532Z",
     "start_time": "2023-08-22T19:38:00.047197Z"
    }
   },
   "outputs": [
    {
     "name": "stdout",
     "output_type": "stream",
     "text": [
      "Посетители, попадающие в обе группы: {3957174400, 3984495233, 2780786433, 1294878855, 1648269707, 1614305549, 4120364173, 232979603, 199603092, 4266935830, 2712142231, 2587333274, 2716752286, 3891541246, 1668030113, 2654030115, 3234906277, 1230306981, 1404934699, 3803269165, 2949041841, 237748145, 457167155, 2927087541, 1738359350, 3062433592, 3656415546, 818047933, 393266494, 963407295, 471551937, 2579882178, 3202540741, 2686716486, 1333886533, 2044997962, 3941795274, 1801183820, 2378935119, 4256040402, 4069496402, 3766097110, 8300375, 351125977, 1602967004, 276558944, 2038680547, 3951559397, 3963646447, 4186807279, 3717692402, 1959144690, 2458001652, 2600415354, 2954449915, 1316129916, 477780734, 3972127743}\n"
     ]
    }
   ],
   "source": [
    "# Создаем множество уникальных посетителей для группы A\n",
    "visitors_group_a = set(orders.loc[orders['group'] == 'A']['visitor_id'])\n",
    "\n",
    "# Создаем множество уникальных посетителей для группы B\n",
    "visitors_group_b = set(orders.loc[orders['group'] == 'B']['visitor_id'])\n",
    "\n",
    "# Возвращаем id посетителей, если они присутствуют одновременно в обоих множествах\n",
    "intersection_visitors = visitors_group_a & visitors_group_b\n",
    "\n",
    "# Проверяем, есть ли пересечение посетителей\n",
    "if len(intersection_visitors) == 0:\n",
    "    print('Нет посетителей, попадающих в обе группы.')\n",
    "else:\n",
    "    print('Посетители, попадающие в обе группы:', intersection_visitors)"
   ]
  },
  {
   "cell_type": "code",
   "execution_count": 15,
   "id": "2ad8e649",
   "metadata": {
    "ExecuteTime": {
     "end_time": "2023-08-22T19:38:00.087979Z",
     "start_time": "2023-08-22T19:38:00.052702Z"
    }
   },
   "outputs": [
    {
     "name": "stdout",
     "output_type": "stream",
     "text": [
      "58\n",
      "\n",
      "     transaction_id  visitor_id       date  revenue group\n",
      "304       609915801  2780786433 2019-08-28     1200     A\n",
      "548       430186476  2780786433 2019-08-29     1580     A\n",
      "\n",
      "     transaction_id  visitor_id       date  revenue group\n",
      "857       847315305  2780786433 2019-08-27      540     B\n"
     ]
    }
   ],
   "source": [
    "print(len(intersection_visitors))\n",
    "print()\n",
    "print(orders.loc[(orders['group'] == 'A') & (orders['visitor_id'] == 2780786433)])\n",
    "print()\n",
    "print(orders.loc[(orders['group'] == 'B') & (orders['visitor_id'] == 2780786433)])"
   ]
  },
  {
   "cell_type": "markdown",
   "id": "ccd19479",
   "metadata": {},
   "source": [
    "Как мы видим, несколько посетителей, совершивших покупки, попали в обе группы. Учитывая, что их 58, удалим их из таблицы orders."
   ]
  },
  {
   "cell_type": "code",
   "execution_count": 16,
   "id": "797502d8",
   "metadata": {
    "ExecuteTime": {
     "end_time": "2023-08-22T19:38:00.088295Z",
     "start_time": "2023-08-22T19:38:00.067543Z"
    }
   },
   "outputs": [
    {
     "name": "stdout",
     "output_type": "stream",
     "text": [
      "1197\n",
      "\n",
      "   transaction_id  visitor_id       date  revenue group\n",
      "0      3667963787  3312258926 2019-08-15     1650     B\n",
      "1      2804400009  3642806036 2019-08-15      730     B\n",
      "2      2961555356  4069496402 2019-08-15      400     A\n",
      "3      3797467345  1196621759 2019-08-15     9759     B\n",
      "4      2282983706  2322279887 2019-08-15     2308     B\n",
      "5       182168103   935554773 2019-08-15     2210     B\n",
      "6       398296753  2900797465 2019-08-15     1860     B\n",
      "7      2626614568    78758296 2019-08-15     1044     A\n",
      "8      1576988021   295230930 2019-08-15    13710     A\n",
      "9      1506739906  1882260405 2019-08-15     1855     B\n",
      "\n",
      "      transaction_id  visitor_id       date  revenue group\n",
      "1187      2274188238   132143192 2019-08-14      750     A\n",
      "1188      1692103379  1022829655 2019-08-14      112     A\n",
      "1189      4082620617   393266494 2019-08-14    31550     B\n",
      "1190        38478481  1197745035 2019-08-14     8600     B\n",
      "1191      3592955527   608641596 2019-08-14    16490     B\n",
      "1192      2662137336  3733762160 2019-08-14     6490     B\n",
      "1193      2203539145   370388673 2019-08-14     3190     A\n",
      "1194      1807773912   573423106 2019-08-14    10550     A\n",
      "1195      1947021204  1614305549 2019-08-14      100     A\n",
      "1196      3936777065  2108080724 2019-08-15   202740     B\n"
     ]
    }
   ],
   "source": [
    "# Посмотрим на датасет до изменений\n",
    "print(len(orders))\n",
    "print()\n",
    "print(orders.head(10))\n",
    "print()\n",
    "print(orders.tail(10))"
   ]
  },
  {
   "cell_type": "code",
   "execution_count": 17,
   "id": "d723bf19",
   "metadata": {
    "ExecuteTime": {
     "end_time": "2023-08-22T19:38:00.088675Z",
     "start_time": "2023-08-22T19:38:00.073932Z"
    }
   },
   "outputs": [],
   "source": [
    "# Исключаем пользователей, попавших в обе группы\n",
    "orders = orders[~orders['visitor_id'].isin(intersection_visitors)]"
   ]
  },
  {
   "cell_type": "code",
   "execution_count": 18,
   "id": "59334950",
   "metadata": {
    "ExecuteTime": {
     "end_time": "2023-08-22T19:38:00.264277Z",
     "start_time": "2023-08-22T19:38:00.083726Z"
    }
   },
   "outputs": [
    {
     "name": "stdout",
     "output_type": "stream",
     "text": [
      "1016\n",
      "\n",
      "   transaction_id  visitor_id       date  revenue group\n",
      "0      3667963787  3312258926 2019-08-15     1650     B\n",
      "1      2804400009  3642806036 2019-08-15      730     B\n",
      "2      3797467345  1196621759 2019-08-15     9759     B\n",
      "3      2282983706  2322279887 2019-08-15     2308     B\n",
      "4       182168103   935554773 2019-08-15     2210     B\n",
      "5       398296753  2900797465 2019-08-15     1860     B\n",
      "6      2626614568    78758296 2019-08-15     1044     A\n",
      "7      1576988021   295230930 2019-08-15    13710     A\n",
      "8      1506739906  1882260405 2019-08-15     1855     B\n",
      "9      3649131742   879864040 2019-08-15     4008     A\n",
      "\n",
      "      transaction_id  visitor_id       date  revenue group\n",
      "1006       948555526  2710193528 2019-08-14      730     A\n",
      "1007      2116724386  2146711261 2019-08-14    15380     B\n",
      "1008      2274188238   132143192 2019-08-14      750     A\n",
      "1009      1692103379  1022829655 2019-08-14      112     A\n",
      "1010        38478481  1197745035 2019-08-14     8600     B\n",
      "1011      3592955527   608641596 2019-08-14    16490     B\n",
      "1012      2662137336  3733762160 2019-08-14     6490     B\n",
      "1013      2203539145   370388673 2019-08-14     3190     A\n",
      "1014      1807773912   573423106 2019-08-14    10550     A\n",
      "1015      3936777065  2108080724 2019-08-15   202740     B\n"
     ]
    }
   ],
   "source": [
    "# Проверим датафрейм orders\n",
    "orders.reset_index(drop=True, inplace=True)\n",
    "print(len(orders))\n",
    "print()\n",
    "print(orders.head(10))\n",
    "print()\n",
    "print(orders.tail(10))"
   ]
  },
  {
   "cell_type": "code",
   "execution_count": 19,
   "id": "d5f6849d",
   "metadata": {
    "ExecuteTime": {
     "end_time": "2023-08-22T19:38:00.264549Z",
     "start_time": "2023-08-22T19:38:00.096917Z"
    }
   },
   "outputs": [],
   "source": [
    "# Cоздаём массив уникальных пар значений дат и групп теста\n",
    "dates_groups = orders[['date','group']].drop_duplicates()"
   ]
  },
  {
   "cell_type": "code",
   "execution_count": 20,
   "id": "710137d5",
   "metadata": {
    "ExecuteTime": {
     "end_time": "2023-08-22T19:38:00.271788Z",
     "start_time": "2023-08-22T19:38:00.110790Z"
    }
   },
   "outputs": [],
   "source": [
    "# Получим агрегированные кумулятивные по дням данные о заказах\n",
    "orders_aggregated = dates_groups.apply(\n",
    "    lambda x: orders[\n",
    "        np.logical_and(\n",
    "            orders['date'] <= x['date'],\n",
    "            orders['group'] == x['group']\n",
    "        )\n",
    "    ].agg({\n",
    "        'date': 'max',\n",
    "        'group': 'max',\n",
    "        'transaction_id': 'nunique',\n",
    "        'visitor_id': 'nunique',\n",
    "        'revenue': 'sum'\n",
    "    }),\n",
    "    axis=1\n",
    ").sort_values(by=['date', 'group'])"
   ]
  },
  {
   "cell_type": "code",
   "execution_count": 21,
   "id": "e48f5687",
   "metadata": {
    "ExecuteTime": {
     "end_time": "2023-08-22T19:38:00.285836Z",
     "start_time": "2023-08-22T19:38:00.268469Z"
    }
   },
   "outputs": [],
   "source": [
    "# И агрегированные кумулятивные по дням данные о посетителях\n",
    "visitors_aggregated = dates_groups.apply(\n",
    "    lambda x: visitors[\n",
    "        np.logical_and(\n",
    "            visitors['date'] <= x['date'],\n",
    "            visitors['group'] == x['group']\n",
    "        )\n",
    "    ].agg({\n",
    "        'date': 'max',\n",
    "        'group': 'max',\n",
    "        'visitors': 'sum'\n",
    "    }),\n",
    "    axis=1\n",
    ").sort_values(by=['date', 'group'])"
   ]
  },
  {
   "cell_type": "code",
   "execution_count": 22,
   "id": "d55cf059",
   "metadata": {
    "ExecuteTime": {
     "end_time": "2023-08-22T19:38:00.427844Z",
     "start_time": "2023-08-22T19:38:00.286104Z"
    }
   },
   "outputs": [
    {
     "name": "stdout",
     "output_type": "stream",
     "text": [
      "        date group  orders  buyers  revenue  visitors\n",
      "0 2019-08-01     A      23      19   142779       719\n",
      "1 2019-08-01     B      17      17    59758       713\n",
      "2 2019-08-02     A      42      36   234381      1338\n",
      "3 2019-08-02     B      40      39   221801      1294\n",
      "4 2019-08-03     A      66      60   346854      1845\n"
     ]
    }
   ],
   "source": [
    "# Объединяем кумулятивные данные в одной таблице и присваиваем ее столбцам понятные названия\n",
    "cumulative_data = orders_aggregated.merge(visitors_aggregated, left_on=['date', 'group'], right_on=['date', 'group'])\n",
    "cumulative_data.columns = ['date', 'group', 'orders', 'buyers', 'revenue', 'visitors']\n",
    "\n",
    "print(cumulative_data.head())"
   ]
  },
  {
   "cell_type": "markdown",
   "id": "875b15e5",
   "metadata": {},
   "source": [
    "## График кумулятивной выручки по группам"
   ]
  },
  {
   "cell_type": "code",
   "execution_count": 23,
   "id": "a05a8357",
   "metadata": {
    "ExecuteTime": {
     "end_time": "2023-08-22T19:38:00.613261Z",
     "start_time": "2023-08-22T19:38:00.286508Z"
    }
   },
   "outputs": [
    {
     "data": {
      "image/png": "[encoded data removed]",
      "text/plain": [
       "<Figure size 864x432 with 1 Axes>"
      ]
     },
     "metadata": {
      "needs_background": "light"
     },
     "output_type": "display_data"
    }
   ],
   "source": [
    "# Подготовим данные и построим график\n",
    "# Датафрейм с кумулятивным количеством заказов и кумулятивной выручкой по дням в группе А\n",
    "cumulative_data_a = cumulative_data[cumulative_data['group'] == 'A'][[\n",
    "    'date', 'orders', 'buyers', 'revenue', 'visitors'\n",
    "]]\n",
    "\n",
    "# И датафрейм с кумулятивным количеством заказов и кумулятивной выручкой по дням в группе B\n",
    "cumulative_data_b = cumulative_data[cumulative_data['group'] == 'B'][[\n",
    "    'date', 'orders', 'buyers', 'revenue', 'visitors'\n",
    "]]\n",
    "\n",
    "plt.figure(figsize=(12, 6))\n",
    "\n",
    "# График выручки группы А\n",
    "plt.plot(cumulative_data_a['date'], cumulative_data_a['revenue'],\n",
    "         label='Группа A')\n",
    "\n",
    "# График выручки группы B\n",
    "plt.plot(cumulative_data_b['date'], cumulative_data_b['revenue'],\n",
    "         label='Группа B')\n",
    "\n",
    "# Добавляем заголовок графика и подписи осей\n",
    "plt.title('Кумулятивная выручка по группам')\n",
    "plt.xlabel('Дата')\n",
    "plt.ylabel('Кумулятивная выручка')\n",
    "plt.legend()\n",
    "plt.grid(True)\n",
    "\n",
    "plt.show()"
   ]
  },
  {
   "cell_type": "markdown",
   "id": "52782b42",
   "metadata": {},
   "source": [
    "Группа A демонстрирует стабильный рост на протяжении всего теста без ярко выраженных точек резкого роста. Группа B наоборот: на графике заметен значительный скачок после 17 августа.\n",
    "\n",
    "Это может говорить о наличии аномальных значений — числа заказов и/или покупке дорогих товаров. Вороятно, влияние оказывает сезонный спрос."
   ]
  },
  {
   "cell_type": "markdown",
   "id": "fac8fd67",
   "metadata": {},
   "source": [
    "## График кумулятивного среднего чека по группам"
   ]
  },
  {
   "cell_type": "code",
   "execution_count": 24,
   "id": "8867c81c",
   "metadata": {
    "ExecuteTime": {
     "end_time": "2023-08-22T19:38:00.765067Z",
     "start_time": "2023-08-22T19:38:00.614575Z"
    }
   },
   "outputs": [
    {
     "data": {
      "image/png": "[encoded data removed]",
      "text/plain": [
       "<Figure size 864x432 with 1 Axes>"
      ]
     },
     "metadata": {
      "needs_background": "light"
     },
     "output_type": "display_data"
    }
   ],
   "source": [
    "# Чтобы построить график среднего чека по группам, разделим кумулятивную выручку на кумулятивное число заказов\n",
    "\n",
    "plt.figure(figsize=(12, 6))\n",
    "\n",
    "plt.plot(\n",
    "    cumulative_data_a['date'],\n",
    "    cumulative_data_a['revenue'] / cumulative_data_a['orders'],\n",
    "    label='Группа A'\n",
    ")\n",
    "plt.plot(\n",
    "    cumulative_data_b['date'],\n",
    "    cumulative_data_b['revenue'] / cumulative_data_b['orders'],\n",
    "    label='Группа B'\n",
    ")\n",
    "\n",
    "# Добавляем заголовок и подписи осей\n",
    "plt.title('Динамика среднего чека по группам')\n",
    "plt.xlabel('Дата')\n",
    "plt.ylabel('Средний чек')\n",
    "plt.legend()\n",
    "plt.grid(True)\n",
    "\n",
    "plt.show()"
   ]
  },
  {
   "cell_type": "markdown",
   "id": "a36be2f5",
   "metadata": {},
   "source": [
    "Средний чек в обеих группах демонстрирует наличие резких перепадов. В группе A незначительных, а в группе B — не менее резких, чем на графике кумулятивной выручки по группам.\n",
    "\n",
    "Возможно, на период с 17 по 21 августа действительно пришлись аномальные покупки."
   ]
  },
  {
   "cell_type": "markdown",
   "id": "2e56cdf1",
   "metadata": {},
   "source": [
    "## График относительного изменения кумулятивного среднего чека группы B к группе A"
   ]
  },
  {
   "cell_type": "code",
   "execution_count": 25,
   "id": "3405d9da",
   "metadata": {
    "ExecuteTime": {
     "end_time": "2023-08-22T19:38:00.772516Z",
     "start_time": "2023-08-22T19:38:00.770060Z"
    }
   },
   "outputs": [
    {
     "name": "stdout",
     "output_type": "stream",
     "text": [
      "         date  orders_a  buyers_a  revenue_a  visitors_a  orders_b  buyers_b  \\\n",
      "0  2019-08-01        23        19     142779         719        17        17   \n",
      "1  2019-08-02        42        36     234381        1338        40        39   \n",
      "2  2019-08-03        66        60     346854        1845        54        53   \n",
      "3  2019-08-04        77        71     388030        2562        68        66   \n",
      "4  2019-08-05        99        92     474413        3318        89        87   \n",
      "5  2019-08-06       114       104     515332        3985       112       109   \n",
      "6  2019-08-07       130       120     638580        4629       135       132   \n",
      "7  2019-08-08       144       133     727219        5239       157       154   \n",
      "8  2019-08-09       155       143     861456        5856       176       173   \n",
      "9  2019-08-10       170       158    1013731        6262       198       195   \n",
      "10 2019-08-11       181       169    1074396        6980       210       207   \n",
      "11 2019-08-12       200       188    1294788        7575       229       225   \n",
      "12 2019-08-13       214       201    1558426        8323       249       244   \n",
      "13 2019-08-14       231       218    1601692        9058       263       258   \n",
      "14 2019-08-15       241       228    1682569        9686       289       284   \n",
      "15 2019-08-16       259       246    1782420       10047       307       302   \n",
      "16 2019-08-17       265       251    1817160       10459       320       314   \n",
      "17 2019-08-18       278       264    1876741       11127       327       321   \n",
      "18 2019-08-19       299       283    2044934       11629       348       341   \n",
      "19 2019-08-20       309       293    2103613       12204       368       360   \n",
      "20 2019-08-21       329       311    2273782       12850       380       370   \n",
      "21 2019-08-22       339       321    2366147       13459       401       388   \n",
      "22 2019-08-23       359       341    2424010       13927       414       400   \n",
      "23 2019-08-24       372       354    2546023       14322       428       412   \n",
      "24 2019-08-25       380       362    2597907       14943       440       424   \n",
      "25 2019-08-26       396       378    2755121       15665       462       446   \n",
      "26 2019-08-27       419       400    2940471       16376       473       456   \n",
      "27 2019-08-28       434       413    3036933       16970       495       476   \n",
      "28 2019-08-29       451       430    3233233       17547       510       490   \n",
      "29 2019-08-30       460       437    3311413       18037       531       511   \n",
      "30 2019-08-31       468       445    3364656       18736       548       528   \n",
      "\n",
      "    revenue_b  visitors_b  \n",
      "0       59758         713  \n",
      "1      221801        1294  \n",
      "2      288850        1803  \n",
      "3      385740        2573  \n",
      "4      475648        3280  \n",
      "5      690490        3935  \n",
      "6      909654        4644  \n",
      "7     1059795        5298  \n",
      "8     1162961        5908  \n",
      "9     1268123        6277  \n",
      "10    1321183        6998  \n",
      "11    1425237        7541  \n",
      "12    1542928        8310  \n",
      "13    1650268        9056  \n",
      "14    1960427        9600  \n",
      "15    2074677       10013  \n",
      "16    2155542       10434  \n",
      "17    2190865       11171  \n",
      "18    3620785       11658  \n",
      "19    3768059       12218  \n",
      "20    3908406       12874  \n",
      "21    4050134       13524  \n",
      "22    4127403       14070  \n",
      "23    4215269       14448  \n",
      "24    4294526       15127  \n",
      "25    4467965       15803  \n",
      "26    4579312       16523  \n",
      "27    4640510       17177  \n",
      "28    4746610       17708  \n",
      "29    4955833       18198  \n",
      "30    5068972       18916  \n"
     ]
    }
   ],
   "source": [
    "# Собираем данные\n",
    "merged_cumulative_data = cumulative_data_a.merge(\n",
    "    cumulative_data_b, left_on='date', right_on='date', how='left', suffixes=['_a', '_b']\n",
    ")\n",
    "\n",
    "print(merged_cumulative_data)"
   ]
  },
  {
   "cell_type": "code",
   "execution_count": 26,
   "id": "d7c051cc",
   "metadata": {
    "ExecuteTime": {
     "end_time": "2023-08-22T19:38:00.889155Z",
     "start_time": "2023-08-22T19:38:00.781290Z"
    }
   },
   "outputs": [
    {
     "data": {
      "image/png": "[encoded data removed]",
      "text/plain": [
       "<Figure size 864x432 with 1 Axes>"
      ]
     },
     "metadata": {
      "needs_background": "light"
     },
     "output_type": "display_data"
    }
   ],
   "source": [
    "# Строим отношение средних чеков\n",
    "plt.figure(figsize=(12, 6))\n",
    "\n",
    "plt.plot(\n",
    "    merged_cumulative_data['date'],\n",
    "    (merged_cumulative_data['revenue_b'] / merged_cumulative_data['orders_b']) /\n",
    "    (merged_cumulative_data['revenue_a'] / merged_cumulative_data['orders_a']) - 1\n",
    ")\n",
    "\n",
    "# Добавляем ось X\n",
    "plt.axhline(y=0, color='gray', linestyle='--')\n",
    "# Добавляем заголовок графика и подписи осей\n",
    "plt.title('Относительное изменение кумулятивного среднего чека группы B к группе A')\n",
    "plt.xlabel('Дата')\n",
    "plt.ylabel('Отношение средних чеков')\n",
    "plt.grid(True)\n",
    "\n",
    "plt.show()"
   ]
  },
  {
   "cell_type": "markdown",
   "id": "a1c75d2d",
   "metadata": {},
   "source": [
    "График подтверждает наблюдаемые ранее скачки. Предположения о выбросах подкрепляются дополнительными фактами. Кроме двух временных отрезков, группа B демонстрировала лучший средний чек."
   ]
  },
  {
   "cell_type": "markdown",
   "id": "bd9a2ae1",
   "metadata": {},
   "source": [
    "## График кумулятивного среднего количества заказов на посетителя по группам"
   ]
  },
  {
   "cell_type": "code",
   "execution_count": 27,
   "id": "b4e2c115",
   "metadata": {
    "ExecuteTime": {
     "end_time": "2023-08-22T19:38:01.031975Z",
     "start_time": "2023-08-22T19:38:00.888844Z"
    }
   },
   "outputs": [
    {
     "data": {
      "image/png": "[encoded data removed]",
      "text/plain": [
       "<Figure size 864x432 with 1 Axes>"
      ]
     },
     "metadata": {
      "needs_background": "light"
     },
     "output_type": "display_data"
    }
   ],
   "source": [
    "plt.figure(figsize=(12, 6))\n",
    "\n",
    "plt.plot(\n",
    "    merged_cumulative_data['date'],\n",
    "    merged_cumulative_data['orders_a'] / merged_cumulative_data['visitors_a'],\n",
    "    label='Группа A'\n",
    ")\n",
    "plt.plot(\n",
    "    merged_cumulative_data['date'],\n",
    "    merged_cumulative_data['orders_b'] / merged_cumulative_data['visitors_b'],\n",
    "    label='Группа B'\n",
    ")\n",
    "\n",
    "plt.title('Кумулятивное среднее количество заказов на посетителя по группам')\n",
    "plt.xlabel('Дата')\n",
    "plt.ylabel('Кумулятивное среднее количество заказов на посетителя')\n",
    "plt.legend()\n",
    "plt.grid(True)\n",
    "\n",
    "plt.show()"
   ]
  },
  {
   "cell_type": "markdown",
   "id": "310be58e",
   "metadata": {},
   "source": [
    "График кумулятивного среднего количества заказов демонстрирует у группы A лучшее положение относительно группы B в начале рассматриваемого периода, однако затем группа B демонстрирует лучшие показатели, чем группа A.\n",
    "\n",
    "График кумулятивного среднего количества заказов демонстрирует сначала резкий рост, а затем резкое падение у обеих групп. Затем показатели группа A стабильно падают, а группы B растут. При этом они примерно пересекаются по динамике после 9 августа, однако результаты группы B выглядят лучше.\n",
    "\n",
    "Вероятнее всего, на начало исследуемого периода пришлось аномальное количество заказов в группе A."
   ]
  },
  {
   "cell_type": "markdown",
   "id": "23b140ea",
   "metadata": {},
   "source": [
    "## График относительного изменения кумулятивного среднего количества заказов на посетителя группы B к группе A"
   ]
  },
  {
   "cell_type": "code",
   "execution_count": 28,
   "id": "75db93a6",
   "metadata": {
    "ExecuteTime": {
     "end_time": "2023-08-22T19:38:01.145348Z",
     "start_time": "2023-08-22T19:38:01.032300Z"
    }
   },
   "outputs": [
    {
     "data": {
      "image/png": "[encoded data removed]",
      "text/plain": [
       "<Figure size 864x432 with 1 Axes>"
      ]
     },
     "metadata": {
      "needs_background": "light"
     },
     "output_type": "display_data"
    }
   ],
   "source": [
    "plt.figure(figsize=(12, 6))\n",
    "\n",
    "plt.plot(\n",
    "    merged_cumulative_data['date'],\n",
    "    (merged_cumulative_data['orders_b'] / merged_cumulative_data['visitors_b']) /\n",
    "    (merged_cumulative_data['orders_a'] / merged_cumulative_data['visitors_a']) - 1\n",
    ")\n",
    "\n",
    "plt.axhline(y=0, color='gray', linestyle='--')\n",
    "plt.title('Относительное изменение кумулятивного среднего количества заказов на посетителя группы B к группе A')\n",
    "plt.xlabel('Дата')\n",
    "plt.ylabel('Относительное изменение')\n",
    "\n",
    "plt.grid(True)\n",
    "\n",
    "plt.show()"
   ]
  },
  {
   "cell_type": "markdown",
   "id": "340ce92a",
   "metadata": {},
   "source": [
    "Группа B показывает очевидно лучшие результаты, чем группа A. При этом в начале мы видим влияние, скорее всего, аномального количества заказов в группе A.\n",
    "\n",
    "Значит, в группе B больше кумулятивное среднее количество заказов на посетителя. Cтабильное значение около 0.15 в конце исследования может указывать на то, что относительное различие между группами установилось на этом уровне."
   ]
  },
  {
   "cell_type": "markdown",
   "id": "829747c8",
   "metadata": {},
   "source": [
    "## Точечный график количества заказов по пользователям"
   ]
  },
  {
   "cell_type": "code",
   "execution_count": 29,
   "id": "390907c3",
   "metadata": {
    "ExecuteTime": {
     "end_time": "2023-08-22T19:38:01.151800Z",
     "start_time": "2023-08-22T19:38:01.147099Z"
    }
   },
   "outputs": [
    {
     "name": "stdout",
     "output_type": "stream",
     "text": [
      "   visitor_id  orders\n",
      "0  3967698036       3\n",
      "1   249864742       3\n",
      "2  2108163459       3\n",
      "3  2988190573       3\n",
      "4  3908431265       3\n",
      "5   611059232       3\n",
      "6  2742574263       3\n",
      "7   678354126       2\n",
      "8  1404560065       2\n",
      "9  1985475298       2\n"
     ]
    }
   ],
   "source": [
    "# Сгруппируем данные\n",
    "orders_by_users = (\n",
    "    orders.groupby('visitor_id', as_index=False)\n",
    "    .agg({'transaction_id': 'nunique'})\n",
    ")\n",
    "\n",
    "orders_by_users.columns = ['visitor_id', 'orders']\n",
    "\n",
    "print(orders_by_users.sort_values(by='orders', ascending=False).reset_index(drop=True).head(10))"
   ]
  },
  {
   "cell_type": "markdown",
   "id": "f59a0ccf",
   "metadata": {},
   "source": [
    "Пользователей с большим количеством заказов нету, если не считать тех, кто заказазывал 2–3 раза. Посмотрим с помощью гистограммы, насколько это нетипично для большинства посетителей."
   ]
  },
  {
   "cell_type": "code",
   "execution_count": 30,
   "id": "14307067",
   "metadata": {
    "ExecuteTime": {
     "end_time": "2023-08-22T19:38:01.227568Z",
     "start_time": "2023-08-22T19:38:01.155127Z"
    }
   },
   "outputs": [
    {
     "data": {
      "image/png": "[encoded data removed]",
      "text/plain": [
       "<Figure size 648x432 with 1 Axes>"
      ]
     },
     "metadata": {
      "needs_background": "light"
     },
     "output_type": "display_data"
    }
   ],
   "source": [
    "# Построим гистограмму распределения количества заказов на одного пользователя\n",
    "plt.figure(figsize=(9, 6))\n",
    "plt.hist(orders_by_users['orders'], bins=range(1, orders_by_users['orders'].max() + 2)) # Диапазон корзин гистограммы\n",
    "plt.xticks(range(1, orders_by_users['orders'].max() + 1)) # Деления на оси X\n",
    "plt.title('Распределение количества заказов на пользователя')\n",
    "plt.xlabel('Количество заказов на пользователя')\n",
    "plt.ylabel('Частота')\n",
    "\n",
    "plt.show()"
   ]
  },
  {
   "cell_type": "markdown",
   "id": "d1894bf7",
   "metadata": {},
   "source": [
    "Большинство посетителей делают один заказ. Посмотрим на точечную диаграмму."
   ]
  },
  {
   "cell_type": "code",
   "execution_count": 31,
   "id": "cf0c76e5",
   "metadata": {
    "ExecuteTime": {
     "end_time": "2023-08-22T19:38:01.393866Z",
     "start_time": "2023-08-22T19:38:01.216947Z"
    }
   },
   "outputs": [
    {
     "data": {
      "image/png": "[encoded data removed]",
      "text/plain": [
       "<Figure size 648x432 with 1 Axes>"
      ]
     },
     "metadata": {
      "needs_background": "light"
     },
     "output_type": "display_data"
    }
   ],
   "source": [
    "x_values = pd.Series(range(0, len(orders_by_users)))\n",
    "\n",
    "plt.figure(figsize=(9, 6))\n",
    "plt.scatter(x_values, orders_by_users['orders'])\n",
    "plt.show()"
   ]
  },
  {
   "cell_type": "code",
   "execution_count": 32,
   "id": "f506581c",
   "metadata": {
    "ExecuteTime": {
     "end_time": "2023-08-22T19:38:01.394582Z",
     "start_time": "2023-08-22T19:38:01.288390Z"
    }
   },
   "outputs": [
    {
     "data": {
      "image/png": "[encoded data removed]",
      "text/plain": [
       "<Figure size 648x432 with 1 Axes>"
      ]
     },
     "metadata": {
      "needs_background": "light"
     },
     "output_type": "display_data"
    }
   ],
   "source": [
    "x_values = pd.Series(range(0, len(orders_by_users)))\n",
    "\n",
    "plt.figure(figsize=(9, 6))\n",
    "plt.scatter(x_values, orders_by_users['orders'])\n",
    "plt.title('Точечная диаграмма распределения количества заказов на пользователя')\n",
    "plt.xlabel('Пользователи')\n",
    "plt.ylabel('Количество заказов')\n",
    "\n",
    "plt.show()"
   ]
  },
  {
   "cell_type": "markdown",
   "id": "38de98dd",
   "metadata": {},
   "source": [
    "Видим достаточное количество посетители с двумя и тремя заказами. Непонятно, можно ли считать это аномалиями."
   ]
  },
  {
   "cell_type": "markdown",
   "id": "b6371f1d",
   "metadata": {},
   "source": [
    "## 95-й и 99-й перцентили количества заказов на пользователя"
   ]
  },
  {
   "cell_type": "code",
   "execution_count": 33,
   "id": "61487218",
   "metadata": {
    "ExecuteTime": {
     "end_time": "2023-08-22T19:38:01.394711Z",
     "start_time": "2023-08-22T19:38:01.368173Z"
    }
   },
   "outputs": [
    {
     "name": "stdout",
     "output_type": "stream",
     "text": [
      "[1. 2.]\n"
     ]
    }
   ],
   "source": [
    "print(np.percentile(orders_by_users['orders'], [95, 99]))"
   ]
  },
  {
   "cell_type": "markdown",
   "id": "f51d1576",
   "metadata": {},
   "source": [
    "Исходя из полученных результатов, корректно будет отсеять посетителей с двумя и более заказами."
   ]
  },
  {
   "cell_type": "markdown",
   "id": "b909a8e8",
   "metadata": {},
   "source": [
    "## Точечный график стоимостей заказов"
   ]
  },
  {
   "cell_type": "code",
   "execution_count": 34,
   "id": "3b0d4e34",
   "metadata": {
    "ExecuteTime": {
     "end_time": "2023-08-22T19:38:01.491570Z",
     "start_time": "2023-08-22T19:38:01.380028Z"
    }
   },
   "outputs": [
    {
     "data": {
      "image/png": "[encoded data removed]",
      "text/plain": [
       "<Figure size 576x576 with 1 Axes>"
      ]
     },
     "metadata": {
      "needs_background": "light"
     },
     "output_type": "display_data"
    }
   ],
   "source": [
    "# Создаём Series с индексами от 0 до длины orders['revenue']\n",
    "x_values = pd.Series(range(0, len(orders['revenue'])))\n",
    "\n",
    "plt.figure(figsize=(8, 8))\n",
    "plt.scatter(x_values, orders['revenue'])\n",
    "# При необходимости можем задать интервал значений по оси Y\n",
    "# plt.ylim(0, 30000)\n",
    "plt.grid()\n",
    "plt.title('Точечная диаграмма распределения стоимостей заказов')\n",
    "plt.xlabel('Заказы')\n",
    "plt.ylabel('Стоимость заказов')\n",
    "\n",
    "plt.show()"
   ]
  },
  {
   "cell_type": "markdown",
   "id": "d9bb77d8",
   "metadata": {},
   "source": [
    "Очевидно, что был совершён один невероятно дорогой заказ и один просто очень дорогой сильно выбиваются из общего ряда."
   ]
  },
  {
   "cell_type": "markdown",
   "id": "909cf0b2",
   "metadata": {},
   "source": [
    "## 95-й и 99-й перцентили стоимости заказов"
   ]
  },
  {
   "cell_type": "code",
   "execution_count": 35,
   "id": "52e696c5",
   "metadata": {
    "ExecuteTime": {
     "end_time": "2023-08-22T19:38:01.491831Z",
     "start_time": "2023-08-22T19:38:01.454529Z"
    }
   },
   "outputs": [
    {
     "name": "stdout",
     "output_type": "stream",
     "text": [
      "[26785. 53904.]\n",
      "\n",
      "[1190.   2955.   8134.25]\n"
     ]
    }
   ],
   "source": [
    "# Посмотрим на перцентили\n",
    "print(np.percentile(orders['revenue'], [95, 99]))\n",
    "print()\n",
    "# На 25-й квартиль, медиану и 75-й квартиль\n",
    "print(np.percentile(orders['revenue'], [25, 50, 75]))"
   ]
  },
  {
   "cell_type": "code",
   "execution_count": 36,
   "id": "14a5e191",
   "metadata": {
    "ExecuteTime": {
     "end_time": "2023-08-22T19:38:01.568241Z",
     "start_time": "2023-08-22T19:38:01.466432Z"
    }
   },
   "outputs": [
    {
     "data": {
      "image/png": "[encoded data removed]",
      "text/plain": [
       "<Figure size 648x432 with 1 Axes>"
      ]
     },
     "metadata": {
      "needs_background": "light"
     },
     "output_type": "display_data"
    }
   ],
   "source": [
    "# Построим гистограмму\n",
    "plt.figure(figsize=(9, 6))\n",
    "plt.hist(orders['revenue'], range=(0, 50000))\n",
    "plt.title('Распределение стоимостей заказов')\n",
    "plt.xlabel('Стоимость заказов')\n",
    "plt.ylabel('Частота')\n",
    "\n",
    "plt.show()"
   ]
  },
  {
   "cell_type": "markdown",
   "id": "ab7a2be6",
   "metadata": {},
   "source": [
    "Исходя из имеющихся данных, выбираем границу стоимости для определения аномальных заказов в 30 000 рублей — менее 5% заказов дороже. Будем считать их аномальными."
   ]
  },
  {
   "cell_type": "markdown",
   "id": "ac80e9f5",
   "metadata": {},
   "source": [
    "## Статистическая значимость различий в среднем количестве заказов на посетителя между группами по «сырым» данным"
   ]
  },
  {
   "cell_type": "code",
   "execution_count": 37,
   "id": "da13176d",
   "metadata": {
    "ExecuteTime": {
     "end_time": "2023-08-22T19:38:01.785541Z",
     "start_time": "2023-08-22T19:38:01.621310Z"
    }
   },
   "outputs": [
    {
     "name": "stdout",
     "output_type": "stream",
     "text": [
      "        date  orders_per_date_a  revenue_per_date_a  orders_per_date_b  \\\n",
      "0 2019-08-01                 23              142779                 17   \n",
      "1 2019-08-02                 19               91602                 23   \n",
      "2 2019-08-03                 24              112473                 14   \n",
      "3 2019-08-04                 11               41176                 14   \n",
      "4 2019-08-05                 22               86383                 21   \n",
      "\n",
      "   revenue_per_date_b  orders_cummulative_a  revenue_cummulative_a  \\\n",
      "0               59758                    23                 142779   \n",
      "1              162043                    42                 234381   \n",
      "2               67049                    66                 346854   \n",
      "3               96890                    77                 388030   \n",
      "4               89908                    99                 474413   \n",
      "\n",
      "   orders_cummulative_b  revenue_cummulative_b  visitors_per_date_a  \\\n",
      "0                    17                  59758                  719   \n",
      "1                    40                 221801                  619   \n",
      "2                    54                 288850                  507   \n",
      "3                    68                 385740                  717   \n",
      "4                    89                 475648                  756   \n",
      "\n",
      "   visitors_per_date_b  visitors_cummulative_a  visitors_cummulative_b  \n",
      "0                  713                     719                     713  \n",
      "1                  581                    1338                    1294  \n",
      "2                  509                    1845                    1803  \n",
      "3                  770                    2562                    2573  \n",
      "4                  707                    3318                    3280  \n"
     ]
    }
   ],
   "source": [
    "# Сначала подготовим данные\n",
    "visitors_daily_a = visitors[visitors['group'] == 'A'][['date', 'visitors']]\n",
    "visitors_daily_a.columns = ['date', 'visitors_per_date_a']\n",
    "\n",
    "visitors_cummulative_a = visitors_daily_a.apply(\n",
    "    lambda x: visitors_daily_a[visitors_daily_a['date'] <= x['date']].agg(\n",
    "        {'date': 'max', 'visitors_per_date_a': 'sum'}\n",
    "    ),\n",
    "    axis=1,\n",
    ")\n",
    "visitors_cummulative_a.columns = ['date', 'visitors_cummulative_a']\n",
    "\n",
    "visitors_daily_b = visitors[visitors['group'] == 'B'][['date', 'visitors']]\n",
    "visitors_daily_b.columns = ['date', 'visitors_per_date_b']\n",
    "\n",
    "visitors_cummulative_b = visitors_daily_b.apply(\n",
    "    lambda x: visitors_daily_b[visitors_daily_b['date'] <= x['date']].agg(\n",
    "        {'date': 'max', 'visitors_per_date_b': 'sum'}\n",
    "    ),\n",
    "    axis=1,\n",
    ")\n",
    "visitors_cummulative_b.columns = ['date', 'visitors_cummulative_b']\n",
    "\n",
    "orders_daily_a = (\n",
    "    orders[orders['group'] == 'A'][['date', 'transaction_id', 'visitor_id', 'revenue']]\n",
    "    .groupby('date', as_index=False)\n",
    "    .agg({'transaction_id': pd.Series.nunique, 'revenue': 'sum'})\n",
    ")\n",
    "orders_daily_a.columns = ['date', 'orders_per_date_a', 'revenue_per_date_a']\n",
    "\n",
    "orders_cummulative_a = orders_daily_a.apply(\n",
    "    lambda x: orders_daily_a[orders_daily_a['date'] <= x['date']].agg(\n",
    "        {'date': 'max', 'orders_per_date_a': 'sum', 'revenue_per_date_a': 'sum'}\n",
    "    ),\n",
    "    axis=1,\n",
    ").sort_values(by=['date'])\n",
    "orders_cummulative_a.columns = [\n",
    "    'date',\n",
    "    'orders_cummulative_a',\n",
    "    'revenue_cummulative_a',\n",
    "]\n",
    "\n",
    "orders_daily_b = (\n",
    "    orders[orders['group'] == 'B'][['date', 'transaction_id', 'visitor_id', 'revenue']]\n",
    "    .groupby('date', as_index=False)\n",
    "    .agg({'transaction_id': pd.Series.nunique, 'revenue': 'sum'})\n",
    ")\n",
    "orders_daily_b.columns = ['date', 'orders_per_date_b', 'revenue_per_date_b']\n",
    "\n",
    "orders_cummulative_b = orders_daily_b.apply(\n",
    "    lambda x: orders_daily_b[orders_daily_b['date'] <= x['date']].agg(\n",
    "        {'date': 'max', 'orders_per_date_b': 'sum', 'revenue_per_date_b': 'sum'}\n",
    "    ),\n",
    "    axis=1,\n",
    ").sort_values(by=['date'])\n",
    "orders_cummulative_b.columns = [\n",
    "    'date',\n",
    "    'orders_cummulative_b',\n",
    "    'revenue_cummulative_b',\n",
    "]\n",
    "\n",
    "data = (\n",
    "    orders_daily_a.merge(\n",
    "        orders_daily_b, left_on='date', right_on='date', how='left'\n",
    "    )\n",
    "    .merge(orders_cummulative_a, left_on='date', right_on='date', how='left')\n",
    "    .merge(orders_cummulative_b, left_on='date', right_on='date', how='left')\n",
    "    .merge(visitors_daily_a, left_on='date', right_on='date', how='left')\n",
    "    .merge(visitors_daily_b, left_on='date', right_on='date', how='left')\n",
    "    .merge(visitors_cummulative_a, left_on='date', right_on='date', how='left')\n",
    "    .merge(visitors_cummulative_b, left_on='date', right_on='date', how='left')\n",
    ")\n",
    "\n",
    "print(data.head())"
   ]
  },
  {
   "cell_type": "markdown",
   "id": "91f96bd1",
   "metadata": {},
   "source": [
    "Сформулируем гипотезы.\n",
    "\n",
    "Нулевая: различий в среднем количестве заказов между группами нет.\n",
    "\n",
    "Альтернативная: различия в среднем между группами есть."
   ]
  },
  {
   "cell_type": "code",
   "execution_count": 38,
   "id": "ecac9eeb",
   "metadata": {
    "ExecuteTime": {
     "end_time": "2023-08-22T19:38:01.786092Z",
     "start_time": "2023-08-22T19:38:01.721765Z"
    }
   },
   "outputs": [
    {
     "name": "stdout",
     "output_type": "stream",
     "text": [
      "p-value: 0.011\n",
      "\n",
      "Относительный прирост среднего количества заказов на посетителя между группой B и A по «сырым» данным: 0.160\n"
     ]
    }
   ],
   "source": [
    "# Сформируем данные, в которых пользователям из разных групп будет соответствовать количество заказов\n",
    "# Тем, кто ничего не заказал, будут соответствовать нули\n",
    "orders_by_users_a = (\n",
    "    orders[orders['group'] == 'A']\n",
    "    .groupby('visitor_id', as_index=False)\n",
    "    .agg({'transaction_id': pd.Series.nunique})\n",
    ")\n",
    "orders_by_users_a.columns = ['visitor_id', 'orders']\n",
    "\n",
    "orders_by_users_b = (\n",
    "    orders[orders['group'] == 'B']\n",
    "    .groupby('visitor_id', as_index=False)\n",
    "    .agg({'transaction_id': pd.Series.nunique})\n",
    ")\n",
    "orders_by_users_b.columns = ['visitor_id', 'orders']\n",
    "\n",
    "sample_a = pd.concat(\n",
    "    [\n",
    "        orders_by_users_a['orders'],\n",
    "        pd.Series(\n",
    "            0,\n",
    "            index=np.arange(\n",
    "                data['visitors_per_date_a'].sum() - len(orders_by_users_a['orders'])\n",
    "            ),\n",
    "            name='orders',\n",
    "        ),\n",
    "    ],\n",
    "    axis=0,\n",
    ")\n",
    "\n",
    "sample_b = pd.concat(\n",
    "    [\n",
    "        orders_by_users_b['orders'],\n",
    "        pd.Series(\n",
    "            0,\n",
    "            index=np.arange(\n",
    "                data['visitors_per_date_b'].sum() - len(orders_by_users_b['orders'])\n",
    "            ),\n",
    "            name='orders',\n",
    "        ),\n",
    "    ],\n",
    "    axis=0,\n",
    ")\n",
    "\n",
    "print('p-value: {0:.3f}'.format(stats.mannwhitneyu(sample_a, sample_b)[1]))\n",
    "print()\n",
    "print('Относительный прирост среднего количества заказов на посетителя между группой B и A по «сырым» данным: {0:.3f}'.format(sample_b.mean() / sample_a.mean() - 1))"
   ]
  },
  {
   "cell_type": "markdown",
   "id": "23b79346",
   "metadata": {},
   "source": [
    "По «сырым» данным наблюдаются отличия в среднем количестве заказов между группами.\n",
    "\n",
    "Значение p-value составляет 0.011, что меньше уровня значимости 0.05. Это указывает на наличие статистически значимых различий в среднем количестве заказов между группами B и A.\n",
    "\n",
    "Относительное увеличение среднего количества заказов на посетителя в группе B по сравнению с группой A по «сырым» данным составляет 16%."
   ]
  },
  {
   "cell_type": "markdown",
   "id": "f5bd9f03",
   "metadata": {},
   "source": [
    "## Статистическую значимость различий в среднем чеке заказа между группами по «сырым» данным"
   ]
  },
  {
   "cell_type": "markdown",
   "id": "3fe0d428",
   "metadata": {},
   "source": [
    "Нулевая гипотеза: различий в среднем количестве заказов между группами нет.\n",
    "\n",
    "Альтернативная гипотеза: различия в среднем между группами есть."
   ]
  },
  {
   "cell_type": "code",
   "execution_count": 39,
   "id": "2539290e",
   "metadata": {
    "ExecuteTime": {
     "end_time": "2023-08-22T19:38:01.786277Z",
     "start_time": "2023-08-22T19:38:01.777576Z"
    }
   },
   "outputs": [
    {
     "name": "stdout",
     "output_type": "stream",
     "text": [
      "p-value: 0.829\n",
      "Относительный прирост среднего чека заказа между группой B и A по «сырым» данным: 0.287\n"
     ]
    }
   ],
   "source": [
    "print('p-value: {0:.3f}'.format(\n",
    "    stats.mannwhitneyu(orders[orders['group'] == 'A']['revenue'], orders[orders['group'] == 'B']['revenue'])[1]\n",
    "))\n",
    "\n",
    "print('Относительный прирост среднего чека заказа между группой B и A по «сырым» данным: {0:.3f}'.format(\n",
    "    orders[orders['group'] == 'B']['revenue'].mean() / orders[orders['group'] == 'A']['revenue'].mean() - 1\n",
    "))"
   ]
  },
  {
   "cell_type": "markdown",
   "id": "c4df0001",
   "metadata": {},
   "source": [
    "P-value равно 0.829, что превышает уровень значимости 0.05. Это говорит о том, что у нас нет статистически значимых оснований для отвержения нулевой гипотезы об отсутствии различий между средними значениями средних чеков групп B и A.\n",
    "\n",
    "Относительное увеличение среднего чека заказа между группой B и A по «сырым» данным равно 28.7%. Однако на данном этапе нельзя делать вывод о том, что средний чек группы B лучше среднего чека группы A со статистической достоверностью."
   ]
  },
  {
   "cell_type": "markdown",
   "id": "6b3c0c53",
   "metadata": {},
   "source": [
    "## Статистическая значимость различий в среднем количестве заказов на посетителя между группами по «очищенным» данным"
   ]
  },
  {
   "cell_type": "markdown",
   "id": "9bd5895f",
   "metadata": {},
   "source": [
    "Примем за аномальных посетителей тех, кто совершил от 2 заказов и больше и/или совершил заказ дороже 30 000 рублей. Так мы уберём порядка 5% посетителей с наибольшим числом заказов и около 5% посетителей с дорогими заказами."
   ]
  },
  {
   "cell_type": "code",
   "execution_count": 40,
   "id": "9e61fd5b",
   "metadata": {
    "ExecuteTime": {
     "end_time": "2023-08-22T19:38:01.812177Z",
     "start_time": "2023-08-22T19:38:01.784529Z"
    }
   },
   "outputs": [
    {
     "name": "stdout",
     "output_type": "stream",
     "text": [
      "937    148427295\n",
      "792    204675465\n",
      "33     249864742\n",
      "586    358944393\n",
      "36     366673373\n",
      "Name: visitor_id, dtype: int64\n",
      "\n",
      "77\n"
     ]
    }
   ],
   "source": [
    "users_with_many_orders = pd.concat(\n",
    "    [\n",
    "        orders_by_users_a[orders_by_users_a['orders'] >= 2]['visitor_id'],\n",
    "        orders_by_users_b[orders_by_users_b['orders'] >= 2]['visitor_id'],\n",
    "    ],\n",
    "    axis=0,\n",
    ")\n",
    "users_with_expensive_orders = orders[orders['revenue'] > 30000]['visitor_id']\n",
    "\n",
    "abnormal_users = (\n",
    "    pd.concat([users_with_many_orders, users_with_expensive_orders], axis=0)\n",
    "    .drop_duplicates()\n",
    "    .sort_values()\n",
    ")\n",
    "print(abnormal_users.head(5))\n",
    "print()\n",
    "print(abnormal_users.shape[0])"
   ]
  },
  {
   "cell_type": "markdown",
   "id": "34297684",
   "metadata": {},
   "source": [
    "77 аномальных посетителей. Узнаем, как их действия повлияли на результаты.\n",
    "\n",
    "Повторим раннее сформулированные гипотезы.\n",
    "\n",
    "Нулевая гипотеза: различий в среднем количестве заказов между группами нет.\n",
    "\n",
    "Альтернативная гипотеза: различия в среднем количестве заказов между группами есть."
   ]
  },
  {
   "cell_type": "code",
   "execution_count": 41,
   "id": "782a05dc",
   "metadata": {
    "ExecuteTime": {
     "end_time": "2023-08-22T19:38:01.863384Z",
     "start_time": "2023-08-22T19:38:01.809487Z"
    }
   },
   "outputs": [
    {
     "name": "stdout",
     "output_type": "stream",
     "text": [
      "p-value: 0.013\n",
      "\n",
      "Относительный прирост среднего количества заказов на посетителя между группой B и A по «очищенным» данным: 0.180\n"
     ]
    }
   ],
   "source": [
    "# Подготовим выборки количества заказов по пользователям по группам\n",
    "sample_a_filtered = pd.concat(\n",
    "    [\n",
    "        orders_by_users_a[\n",
    "            np.logical_not(orders_by_users_a['visitor_id'].isin(abnormal_users))\n",
    "        ]['orders'],\n",
    "        pd.Series(\n",
    "            0,\n",
    "            index=np.arange(\n",
    "                data['visitors_per_date_a'].sum() - len(orders_by_users_a['orders'])\n",
    "            ),\n",
    "            name='orders',\n",
    "        ),\n",
    "    ],\n",
    "    axis=0,\n",
    ")\n",
    "\n",
    "sample_b_filtered = pd.concat(\n",
    "    [\n",
    "        orders_by_users_b[\n",
    "            np.logical_not(orders_by_users_b['visitor_id'].isin(abnormal_users))\n",
    "        ]['orders'],\n",
    "        pd.Series(\n",
    "            0,\n",
    "            index=np.arange(\n",
    "                data['visitors_per_date_b'].sum() - len(orders_by_users_b['orders'])\n",
    "            ),\n",
    "            name='orders',\n",
    "        ),\n",
    "    ],\n",
    "    axis=0,\n",
    ")\n",
    "\n",
    "print('p-value: {0:.3f}'.format(stats.mannwhitneyu(sample_a_filtered, sample_b_filtered)[1]))\n",
    "print()\n",
    "print('Относительный прирост среднего количества заказов на посетителя между группой B и A по «очищенным» данным: {0:.3f}'.format(sample_b_filtered.mean() / sample_a_filtered.mean() -1))"
   ]
  },
  {
   "cell_type": "markdown",
   "id": "5357f224",
   "metadata": {},
   "source": [
    "P-value равно 0.013, что меньше уровня значимости 0.05. Это говорит о том, что у нас есть статистически значимые основания для отвержения нулевой гипотезы о том, что различий в среднем количестве заказов между группами нет. Таким образом, результаты позволяют нам сделать вывод о наличии статистически значимых различий в среднем количестве заказов между группами.\n",
    "\n",
    "Относительный прирост среднего количества заказов на посетителя между группой B и A по «очищенным» данным равен 0.180. Это означает, что по «очищенным» данным среднее количество заказов на посетителя в группе B выше на 18% по сравнению с группой A.\n",
    "\n",
    "Такие выводы говорят о том, что есть статистически значимые различия между группами и относительный прирост среднего количества заказов в группе B по сравнению с группой A достаточно высок.\n",
    "\n",
    "Таким образом, нулевую гипотезу следует отвергнуть в пользу альтернативной."
   ]
  },
  {
   "cell_type": "markdown",
   "id": "ae4763a8",
   "metadata": {},
   "source": [
    "## Статистическая значимость различий в среднем чеке заказа между группами по «очищенным» данным"
   ]
  },
  {
   "cell_type": "markdown",
   "id": "dadf6eda",
   "metadata": {},
   "source": [
    "Повторим гипотезы.\n",
    "\n",
    "Нулевая гипотеза: различий в среднем количестве заказов между группами нет.\n",
    "\n",
    "Альтернативная гипотеза: различия в среднем между группами есть."
   ]
  },
  {
   "cell_type": "code",
   "execution_count": 42,
   "id": "46ae6a66",
   "metadata": {
    "ExecuteTime": {
     "end_time": "2023-08-22T19:38:01.863724Z",
     "start_time": "2023-08-22T19:38:01.821343Z"
    }
   },
   "outputs": [
    {
     "name": "stdout",
     "output_type": "stream",
     "text": [
      "p-value: 0.829\n",
      "\n",
      "Относительный прирост среднего чека заказа между группой B и A по «очищенным» данным: -0.011\n"
     ]
    }
   ],
   "source": [
    "print(\n",
    "    'p-value: {0:.3f}'.format(\n",
    "        stats.mannwhitneyu(\n",
    "            orders[\n",
    "                np.logical_and(\n",
    "                    orders['group'] == 'A',\n",
    "                    np.logical_not(orders['visitor_id'].isin(abnormal_users)),\n",
    "                )\n",
    "            ]['revenue'],\n",
    "            orders[\n",
    "                np.logical_and(\n",
    "                    orders['group'] == 'B',\n",
    "                    np.logical_not(orders['visitor_id'].isin(abnormal_users)),\n",
    "                )\n",
    "            ]['revenue'],\n",
    "        )[1]\n",
    "    )\n",
    ")\n",
    "print()\n",
    "print(\n",
    "    'Относительный прирост среднего чека заказа между группой B и A по «очищенным» данным: {0:.3f}'.format(\n",
    "        orders[\n",
    "            np.logical_and(\n",
    "                orders['group'] == 'B',\n",
    "                np.logical_not(orders['visitor_id'].isin(abnormal_users)),\n",
    "            )\n",
    "        ]['revenue'].mean()\n",
    "        / orders[\n",
    "            np.logical_and(\n",
    "                orders['group'] == 'A',\n",
    "                np.logical_not(orders['visitor_id'].isin(abnormal_users)),\n",
    "            )\n",
    "        ]['revenue'].mean()\n",
    "        - 1\n",
    "    )\n",
    ")"
   ]
  },
  {
   "cell_type": "markdown",
   "id": "b0b45862",
   "metadata": {},
   "source": [
    "После фильтрации аномальных значений, ситуация изменилась. P-value стало немного выше, и в данной ситуации группа A опередила группу B. Тем не менее, разница между средними чеками заказов составляет всего 1%, что является незначительным.\n",
    "\n",
    "Изначально относительный прирост среднего чека заказа между группой B и A по «сырым» данным составлял 28.7%, однако на данном этапе невозможно было делать вывод о том, что средний чек группы B с высокой степенью статистической достоверности отличается от среднего чека группы A.\n",
    "\n",
    "Однако, после применения фильтрации и анализа «очищенных» данных, относительный прирост среднего чека заказа между группой B и A составил -0.011 (1%), а P-value осталось на уровне 0.829. Это говорит о том, что изменение среднего чека в группах не является статистически значимым, и различия, которые мы наблюдали по «сырым» данным, могут быть обусловлены аномалиями."
   ]
  },
  {
   "cell_type": "markdown",
   "id": "76086e56",
   "metadata": {},
   "source": [
    "# 3. Вывод"
   ]
  },
  {
   "cell_type": "markdown",
   "id": "89fad8dd",
   "metadata": {},
   "source": [
    "С учётом результатов анализа «сырых» и «очищенных» данных, а также уровней значимости P-value, мы пришли к выводу, во-первых, о наличии статистически значимых различий в среднем количестве заказов между группами B и A и, во-вторых, об отсутствии различия средних чеков заказов между группами не обладают статистической значимостью.\n",
    "\n",
    "Поэтому рекомендуется остановить тест и зафиксировать победу группы B.\n",
    "\n",
    "Статистически значимые различия в среднем количестве заказов между группами присутствуют как по «сырым» данным (P-value = 0.011), так и по «очищенным» данным (P-value = 0.013). Кроме того, относительный прирост среднего количества заказов на посетителя между группами по «очищенным» данным составляет 18%.\n",
    "\n",
    "Учитывая эти результаты, имеется достаточно оснований для принятия решения о завершении теста и зафиксировании победы группы B по одной метрике Среднее количество заказов и ничьей по метрике Средний чек."
   ]
  }
 ],
 "metadata": {
  "kernelspec": {
   "display_name": "Python 3 (ipykernel)",
   "language": "python",
   "name": "python3"
  },
  "language_info": {
   "codemirror_mode": {
    "name": "ipython",
    "version": 3
   },
   "file_extension": ".py",
   "mimetype": "text/x-python",
   "name": "python",
   "nbconvert_exporter": "python",
   "pygments_lexer": "ipython3",
   "version": "3.9.17"
  },
  "toc": {
   "base_numbering": 1,
   "nav_menu": {},
   "number_sections": true,
   "sideBar": true,
   "skip_h1_title": true,
   "title_cell": "Table of Contents",
   "title_sidebar": "Contents",
   "toc_cell": false,
   "toc_position": {},
   "toc_section_display": true,
   "toc_window_display": false
  }
 },
 "nbformat": 4,
 "nbformat_minor": 5
}
